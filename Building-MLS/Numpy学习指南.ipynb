{
 "cells": [
  {
   "cell_type": "markdown",
   "metadata": {},
   "source": [
    "# Numpy学习指南"
   ]
  },
  {
   "cell_type": "markdown",
   "metadata": {},
   "source": [
    "<details> \n",
    "<summary>Table of Contents</summary>\n",
    "<!-- toc -->\n",
    "- [Install](#install)  \n",
    "- [Related projects](#related-projects)  \n",
    "- [Development](#development)  \n",
    "- [License](#license)  \n",
    "<!-- tocstop -->\n",
    "</details>"
   ]
  },
  {
   "cell_type": "markdown",
   "metadata": {},
   "source": [
    "NumPy,即Numeric Python的缩写"
   ]
  },
  {
   "cell_type": "markdown",
   "metadata": {},
   "source": [
    "本书所用开发测试环境。\n",
    "> - Python 2.7\n",
    "> - NumPy 2.0.0.dev20100915\n",
    "> - SciPy 0.9.0.dev20100915\n",
    "> - Matplotlib 1.1.1\n",
    "> - Pygame 1.9.1\n",
    "> - IPython 0.14.dev"
   ]
  },
  {
   "cell_type": "code",
   "execution_count": null,
   "metadata": {
    "collapsed": false
   },
   "outputs": [],
   "source": [
    "import numpy as np\n",
    "import scipy as sp\n",
    "import matplotlib\n",
    "print np.version.full_version\n",
    "print sp.version.full_version\n",
    "#print matplotlib.version.full_version"
   ]
  },
  {
   "cell_type": "markdown",
   "metadata": {},
   "source": [
    "## 数组对象"
   ]
  },
  {
   "cell_type": "markdown",
   "metadata": {},
   "source": [
    "NumPy中的数组对象使得其在数值运算方面的效率由于Python提供的list容器，在使用的过程中省去了很多循环语句。"
   ]
  },
  {
   "cell_type": "markdown",
   "metadata": {},
   "source": [
    "#### 向量加法"
   ]
  },
  {
   "cell_type": "code",
   "execution_count": null,
   "metadata": {
    "collapsed": true
   },
   "outputs": [],
   "source": [
    "# 纯Python代码\n",
    "def pythonsum(n):\n",
    "    a=range(n)\n",
    "    b=range(n)\n",
    "    c=[]\n",
    "    \n",
    "    for i in range(len(a)):\n",
    "        a[i]=i**2\n",
    "        b[i]=i**3\n",
    "        c.append(a[i]+b[i])\n",
    "    return c"
   ]
  },
  {
   "cell_type": "code",
   "execution_count": null,
   "metadata": {
    "collapsed": true
   },
   "outputs": [],
   "source": [
    "#使用NumPy的代码\n",
    "import numpy as np\n",
    "def numpysum(n):\n",
    "    a=np.arange(n)**2\n",
    "    b=np.arange(n)**3\n",
    "    c=a+b\n",
    "    return c"
   ]
  },
  {
   "cell_type": "markdown",
   "metadata": {},
   "source": [
    "#### 对比两个程序的运行效率"
   ]
  },
  {
   "cell_type": "code",
   "execution_count": null,
   "metadata": {
    "collapsed": false
   },
   "outputs": [],
   "source": [
    "#！/user/bin/env python\n",
    "import sys\n",
    "import numpy as np\n",
    "from datetime import datetime\n",
    "\n",
    "# 纯Python代码\n",
    "def pythonsum(n):\n",
    "    a=range(n)\n",
    "    b=range(n)\n",
    "    c=[]\n",
    "    \n",
    "    for i in range(len(a)):\n",
    "        a[i]=i**2\n",
    "        b[i]=i**3\n",
    "        c.append(a[i]+b[i])\n",
    "    return c\n",
    "\n",
    "#使用NumPy的代码\n",
    "def numpysum(n):\n",
    "    a=np.arange(n)**2\n",
    "    b=np.arange(n)**3\n",
    "    c=a+b\n",
    "    return c\n",
    "\n",
    "size=int(sys.argv[1])\n",
    "\n",
    "start=datetime.now()\n",
    "c=pythonsum(size)\n",
    "delta=datetime.now()-start\n",
    "print \"The last 2 elements of the sum:\",c[-2:]\n",
    "print \"PythonSum elapsed time in microseconds is\",delta.microseconds\n",
    "\n",
    "#----------------------\n",
    "\n",
    "start=datetime.now()\n",
    "c=numpysum(size)\n",
    "delta=datetime.now()-start\n",
    "\n",
    "print \"The last 2 elements of the sum:\",c[-2:]\n",
    "print \"NumPySum elapsed time in microseconds is\",delta.microseconds\n"
   ]
  },
  {
   "cell_type": "markdown",
   "metadata": {},
   "source": [
    "---"
   ]
  },
  {
   "cell_type": "markdown",
   "metadata": {},
   "source": [
    "# 2 NumPy基础"
   ]
  },
  {
   "cell_type": "markdown",
   "metadata": {},
   "source": [
    "> - 数据类型\n",
    "> - 数组类型\n",
    "> - 类型转换\n",
    "> - 创建数组\n",
    "> - 数组索引\n",
    "> - 数组切片\n",
    "> - 改变维度"
   ]
  },
  {
   "cell_type": "markdown",
   "metadata": {},
   "source": [
    "## 2.1 NumPy数组对象 `ndarray`"
   ]
  },
  {
   "cell_type": "markdown",
   "metadata": {},
   "source": [
    "NumPy中的`ndarray`是一个多维数组对象，该对象由两部分组成：\n",
    "> - 实际的数据\n",
    "> - 描述这些数据的元数据"
   ]
  },
  {
   "cell_type": "markdown",
   "metadata": {
    "collapsed": true
   },
   "source": []
  },
  {
   "cell_type": "code",
   "execution_count": null,
   "metadata": {
    "collapsed": true
   },
   "outputs": [],
   "source": []
  },
  {
   "cell_type": "code",
   "execution_count": null,
   "metadata": {
    "collapsed": true
   },
   "outputs": [],
   "source": []
  },
  {
   "cell_type": "code",
   "execution_count": null,
   "metadata": {
    "collapsed": true
   },
   "outputs": [],
   "source": []
  },
  {
   "cell_type": "code",
   "execution_count": null,
   "metadata": {
    "collapsed": true
   },
   "outputs": [],
   "source": []
  },
  {
   "cell_type": "code",
   "execution_count": null,
   "metadata": {
    "collapsed": true
   },
   "outputs": [],
   "source": []
  },
  {
   "cell_type": "code",
   "execution_count": null,
   "metadata": {
    "collapsed": true
   },
   "outputs": [],
   "source": []
  },
  {
   "cell_type": "code",
   "execution_count": null,
   "metadata": {
    "collapsed": true
   },
   "outputs": [],
   "source": []
  },
  {
   "cell_type": "code",
   "execution_count": null,
   "metadata": {
    "collapsed": true
   },
   "outputs": [],
   "source": []
  }
 ],
 "metadata": {
  "kernelspec": {
   "display_name": "Python 2",
   "language": "python",
   "name": "python2"
  },
  "language_info": {
   "codemirror_mode": {
    "name": "ipython",
    "version": 2
   },
   "file_extension": ".py",
   "mimetype": "text/x-python",
   "name": "python",
   "nbconvert_exporter": "python",
   "pygments_lexer": "ipython2",
   "version": "2.7.11"
  }
 },
 "nbformat": 4,
 "nbformat_minor": 0
}
