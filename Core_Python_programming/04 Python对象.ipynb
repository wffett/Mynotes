{
 "cells": [
  {
   "cell_type": "markdown",
   "metadata": {},
   "source": [
    "# 4 Python对象"
   ]
  },
  {
   "cell_type": "markdown",
   "metadata": {},
   "source": [
    "> - Python对象\n",
    "> - 内建类型\n",
    "> - 标准类型操作符\n",
    "> - 值的比较\n",
    "> - 对象身份比较\n",
    "> - 布尔类型\n",
    "> - 标准类型内建函数\n",
    "> - 标准类型总览\n",
    "> - 各种类型\n",
    "> - 不支持类型"
   ]
  },
  {
   "cell_type": "markdown",
   "metadata": {},
   "source": [
    "## 4.1Python对象\n",
    "Python使用对象模型来存储数据，构造任何类型的值都是一个对象。\n",
    "对象有三个特性：\n",
    "> - 身份：\n",
    "每一个对象都有一个唯一的身份标识，这个值可以被认为是该对象的内存地址，可以使用内建函数`id()`来获得，该值为只读属性。\n",
    "> - 类型：\n",
    "对象的类型决定了该对象可以保存什么类型的值，可以进行什么样的操作，以及遵循什么样的规则，可以使用内建函数`type()`查看，也只是只读属性。\n",
    "> - 值：\n",
    "对象表示的数据项，这个内容的是否是只读的要看它的类型是不是具有可改变性（mutability）"
   ]
  },
  {
   "cell_type": "markdown",
   "metadata": {},
   "source": [
    "## 4.2 标准类型（Python2.x）\n",
    "> - 数字（分为几个子类型，其中有三个是整型）\n",
    "> - Integer 整型\n",
    "> - Boolean 布尔型\n",
    "> - Long integer 长整型\n",
    "> - Floating point real number 浮点型\n",
    "> - Complex number 复数型\n",
    "> - String 字符串\n",
    "> - List 列表\n",
    "> - Tuple 元组\n",
    "> - Dictionary 字典"
   ]
  },
  {
   "cell_type": "markdown",
   "metadata": {},
   "source": [
    "## 4.3 其他内建类型\n",
    "> - 类型\n",
    "> - Null对象（None）\n",
    "> - 文件\n",
    "> - Set 集合/固定集合\n",
    "> - 函数/方法\n",
    "> - 模块\n",
    "> - 类"
   ]
  },
  {
   "cell_type": "code",
   "execution_count": 13,
   "metadata": {
    "collapsed": false
   },
   "outputs": [
    {
     "name": "stdout",
     "output_type": "stream",
     "text": [
      "<type 'int'>\n",
      "<type 'type'>\n"
     ]
    }
   ],
   "source": [
    "print type(42)\n",
    "print type(type(42))"
   ]
  },
  {
   "cell_type": "markdown",
   "metadata": {},
   "source": [
    "从上面的输出结果来看`type`也是一种对象，他有什么用途呢？  \n",
    "> - 对象有一系列固有的特性和行为（例如类的属性和方法）,必须事先定义\n",
    "> - 类型`type`正是保存这些信息的最佳位置\n",
    "> - 描述一种类型所需要的信息不可能用一个字符串来搞定，所以类型不能是一个简单的字符串\n",
    "> - 这些信息也不能也不应该和数据保存在一起。\n",
    "> - 所以我们将类型`type`定义成对象。"
   ]
  },
  {
   "cell_type": "markdown",
   "metadata": {},
   "source": [
    "## 4.4 内部类型"
   ]
  },
  {
   "cell_type": "markdown",
   "metadata": {},
   "source": [
    "> - 代码\n",
    "> - 帧\n",
    "> - 跟踪记录\n",
    "> - 切片\n",
    "> - 省略\n",
    "> - Xrange"
   ]
  },
  {
   "cell_type": "markdown",
   "metadata": {},
   "source": [
    "对于内部类型一般的程序员通常不会直接和这些对象打交道。说实话有些懵，这都是些什么东西。以后接触到再说吧。。。"
   ]
  },
  {
   "cell_type": "markdown",
   "metadata": {},
   "source": [
    "## 4.5 标准类型操作符"
   ]
  },
  {
   "cell_type": "markdown",
   "metadata": {},
   "source": [
    "#### 对象值的比较\n",
    "#### 对象身份比较\n",
    "Python提供了`is`和`is not`操作符来测试两个变量是否指向同一个对象，也可以用`id()`函数来确定两个变量引用的对象的身份是否相同。\n",
    "#### 布尔类型"
   ]
  },
  {
   "cell_type": "markdown",
   "metadata": {},
   "source": [
    "## 4.6标准类型内建函数"
   ]
  },
  {
   "cell_type": "markdown",
   "metadata": {},
   "source": [
    "`cmp(obj1,obj2)`:比较`obj1`和`obj2`,根据比较结果返回整型`i`(1或者-1)"
   ]
  },
  {
   "cell_type": "code",
   "execution_count": 2,
   "metadata": {
    "collapsed": false
   },
   "outputs": [
    {
     "data": {
      "text/plain": [
       "(-1, 1)"
      ]
     },
     "execution_count": 2,
     "metadata": {},
     "output_type": "execute_result"
    }
   ],
   "source": [
    "cmp(2,3),cmp(3,2)"
   ]
  },
  {
   "cell_type": "markdown",
   "metadata": {},
   "source": [
    "`type()`已经是一个**工厂函数**，得到一个对象的类型，并返回相应的type对象。"
   ]
  },
  {
   "cell_type": "code",
   "execution_count": 5,
   "metadata": {
    "collapsed": false
   },
   "outputs": [
    {
     "name": "stdout",
     "output_type": "stream",
     "text": [
      "<type 'int'>\n",
      "<type 'type'>\n"
     ]
    }
   ],
   "source": [
    "print type(42)\n",
    "print type(type(42)) #类型本身也是一种类型"
   ]
  },
  {
   "cell_type": "markdown",
   "metadata": {},
   "source": [
    "`str()`和`repr()`(等同于` `` `反引号操作符)"
   ]
  },
  {
   "cell_type": "code",
   "execution_count": 8,
   "metadata": {
    "collapsed": false
   },
   "outputs": [
    {
     "name": "stdout",
     "output_type": "stream",
     "text": [
      "[0, 5, 7, 9]\n",
      "[0, 5, 7, 9]\n"
     ]
    }
   ],
   "source": [
    "print str([0,5,7,9])\n",
    "print repr([0,5,7,9])"
   ]
  },
  {
   "cell_type": "markdown",
   "metadata": {},
   "source": [
    "区别：`str[]`的返回结果通常无法用于`eval()`求值，但是很适合用于print语句输出。  \n",
    "`repr()`的返回结果绝大部分都可以通过`eval()`求值，`obj==eval(repr(obj))`通常是成立的"
   ]
  },
  {
   "cell_type": "code",
   "execution_count": 10,
   "metadata": {
    "collapsed": false
   },
   "outputs": [
    {
     "name": "stdout",
     "output_type": "stream",
     "text": [
      "-69 is a number of type: int\n",
      "xxx is not a number at all!!\n"
     ]
    }
   ],
   "source": [
    "#typechk.py\n",
    "def displayNumType(num):\n",
    "    print num,'is',\n",
    "    if isinstance(num,(int,long,float,complex)):\n",
    "        print 'a number of type:',type(num).__name__\n",
    "    else:\n",
    "        print 'not a number at all!!'\n",
    "displayNumType(-69)\n",
    "displayNumType('xxx')"
   ]
  },
  {
   "cell_type": "code",
   "execution_count": 12,
   "metadata": {
    "collapsed": false
   },
   "outputs": [
    {
     "name": "stdout",
     "output_type": "stream",
     "text": [
      "<type 'int'>\n"
     ]
    }
   ],
   "source": [
    "import types\n",
    "a=types.IntType\n",
    "print a"
   ]
  },
  {
   "cell_type": "code",
   "execution_count": 16,
   "metadata": {
    "collapsed": true
   },
   "outputs": [],
   "source": [
    "?a"
   ]
  },
  {
   "cell_type": "markdown",
   "metadata": {},
   "source": [
    "## 4.7 类型工厂函数\n",
    "工厂函数：当你调用它们时，实际上生成了改类型的一个实例，就像工厂生产货物一样。"
   ]
  },
  {
   "cell_type": "markdown",
   "metadata": {},
   "source": [
    "## 4.8 标准类型的分类\n",
    "#### 存储模型\n",
    "> - 标量/原子类型：数值（说有的数值类型），字符串（全部是文字）\n",
    "> - 容器类型：列表、元组、字典\n",
    "\n",
    "#### 更新模型\n",
    "> - 可变类型：列表、字典\n",
    "> - 不可变类型：数字、字符串、元组"
   ]
  },
  {
   "cell_type": "code",
   "execution_count": 26,
   "metadata": {
    "collapsed": false
   },
   "outputs": [
    {
     "data": {
      "text/plain": [
       "44493360"
      ]
     },
     "execution_count": 26,
     "metadata": {},
     "output_type": "execute_result"
    }
   ],
   "source": [
    "aList=['ammonia',83,85,'lady']\n",
    "id(aList)"
   ]
  },
  {
   "cell_type": "code",
   "execution_count": 27,
   "metadata": {
    "collapsed": false
   },
   "outputs": [
    {
     "data": {
      "text/plain": [
       "44492480"
      ]
     },
     "execution_count": 27,
     "metadata": {},
     "output_type": "execute_result"
    }
   ],
   "source": [
    "aList=['ammonia',83,85,'lady']\n",
    "id(aList)"
   ]
  },
  {
   "cell_type": "code",
   "execution_count": 28,
   "metadata": {
    "collapsed": false
   },
   "outputs": [
    {
     "data": {
      "text/plain": [
       "44492480"
      ]
     },
     "execution_count": 28,
     "metadata": {},
     "output_type": "execute_result"
    }
   ],
   "source": [
    "aList[2]+=1\n",
    "id(aList)"
   ]
  },
  {
   "cell_type": "code",
   "execution_count": 29,
   "metadata": {
    "collapsed": false
   },
   "outputs": [
    {
     "data": {
      "text/plain": [
       "44492480"
      ]
     },
     "execution_count": 29,
     "metadata": {},
     "output_type": "execute_result"
    }
   ],
   "source": [
    "aList.append('gaudy')\n",
    "id(aList)"
   ]
  },
  {
   "cell_type": "markdown",
   "metadata": {},
   "source": [
    "#### 访问模型\n",
    "> - 直接访问：数字\n",
    "> - 顺序访问：字符串、列表、元组\n",
    "> - 映射访问：字典"
   ]
  },
  {
   "cell_type": "markdown",
   "metadata": {},
   "source": [
    "---"
   ]
  },
  {
   "cell_type": "markdown",
   "metadata": {},
   "source": [
    "![a](bzlx.jpg)"
   ]
  },
  {
   "cell_type": "markdown",
   "metadata": {},
   "source": [
    "---"
   ]
  },
  {
   "cell_type": "markdown",
   "metadata": {},
   "source": [
    "## 4.9 不支持的类型"
   ]
  },
  {
   "cell_type": "markdown",
   "metadata": {},
   "source": [
    "> - `char`或`byte`：Python没有`char`或`byte`类型来保存单一字符或8位整型，可以使用长度为1的字符串代替。\n",
    "> - 指针：Python用解释器来管理内存，所以没有必要访问指针，函数`id()`得到一个身份，这个值最接近指针，但是没有太大意义，其实，在Python中一切都是指针。\n",
    "> - `int`下不在分`short`、`long`两种\n",
    "> - `double`双精度浮点类型:Python的`float`同时支持两种浮点类型，浮点型总是不精确，`Decimals`则拥有任意的精度。"
   ]
  },
  {
   "cell_type": "code",
   "execution_count": null,
   "metadata": {
    "collapsed": true
   },
   "outputs": [],
   "source": []
  },
  {
   "cell_type": "code",
   "execution_count": null,
   "metadata": {
    "collapsed": true
   },
   "outputs": [],
   "source": []
  }
 ],
 "metadata": {
  "kernelspec": {
   "display_name": "Python 2",
   "language": "python",
   "name": "python2"
  },
  "language_info": {
   "codemirror_mode": {
    "name": "ipython",
    "version": 2
   },
   "file_extension": ".py",
   "mimetype": "text/x-python",
   "name": "python",
   "nbconvert_exporter": "python",
   "pygments_lexer": "ipython2",
   "version": "2.7.11"
  }
 },
 "nbformat": 4,
 "nbformat_minor": 0
}
