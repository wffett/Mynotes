{
 "cells": [
  {
   "cell_type": "markdown",
   "metadata": {},
   "source": [
    "# Chapter 3 Python基础"
   ]
  },
  {
   "cell_type": "markdown",
   "metadata": {},
   "source": [
    "## 3.1 语句和语法"
   ]
  },
  {
   "cell_type": "markdown",
   "metadata": {},
   "source": [
    "Python语句中有一些基本规则和特殊字符：  \n",
    "- 井号（#）表示之后的字符为Python注释；\n",
    "- 换行（\\n）是标准的行分隔符（通常一个语句一行）；\n",
    "- 反斜线（\\）继续上一行；\n",
    "- 分号（;）将两个语句连接在一行中；\n",
    "- 冒号（:）将代码块的头和体分开；\n",
    "- 语句（代码块）用缩进块的方式体现；\n",
    "- 不同的缩进深度分隔不同的代码块；\n",
    "- Python文件已模块的形式组织"
   ]
  },
  {
   "cell_type": "markdown",
   "metadata": {},
   "source": [
    "---"
   ]
  },
  {
   "cell_type": "markdown",
   "metadata": {},
   "source": [
    "### 注释`#`"
   ]
  },
  {
   "cell_type": "code",
   "execution_count": 2,
   "metadata": {
    "collapsed": true
   },
   "outputs": [],
   "source": [
    "# 这里是注释\n",
    " \n",
    "# -*- coding:utf-8 -*-\n",
    "# 上面这句是 编码注释 作用是：Defining Python Source Code Encodings\n",
    "# 也就是确定源文件的编码方式。\n",
    "\n",
    "#!/usr/bin/python\n",
    "# 上面这句也不是普通的注释，“#！”是在Unix系统下可执行脚本的标示，后面的路径是用来指定用什么解释器运行脚本。\n",
    "# 当然还是需要确保该源文件有可执行的权限。\n"
   ]
  },
  {
   "cell_type": "markdown",
   "metadata": {},
   "source": [
    "### 继续 `\\`"
   ]
  },
  {
   "cell_type": "code",
   "execution_count": 17,
   "metadata": {
    "collapsed": false
   },
   "outputs": [
    {
     "name": "stdout",
     "output_type": "stream",
     "text": [
      "goto beach!\n"
     ]
    }
   ],
   "source": [
    "  # 如果一个语句过长，则可以使用反斜杠分解成几行\n",
    "  weahter_is_hot=1\n",
    "  shark_warnings=0\n",
    "    if (weahter_is_hot ==1) and \\\n",
    "    (shark_warnings==0): #这一行的缩进要求就不是很严格，可有可无。\n",
    "        print \"goto beach!\""
   ]
  },
  {
   "cell_type": "markdown",
   "metadata": {},
   "source": [
    "对于闭合操作符来说，单一语句可以跨多行，而不需要使用`\\`，例如：含有小括号、中括号、花括号的语句，及有三个引号下的字符串。"
   ]
  },
  {
   "cell_type": "code",
   "execution_count": 14,
   "metadata": {
    "collapsed": false
   },
   "outputs": [],
   "source": [
    "go_surf,get_a_tan_while,boat_size,toll_money=(1,\n",
    "'windsurfing',40.0,-2.00) #这一行的缩进也是变得可有可无，但是还是推荐写成如下格式。\n",
    "go_surf,get_a_tan_while,boat_size,toll_money=(1,\n",
    "                                              'windsurfing',40.0,-2.00) "
   ]
  },
  {
   "cell_type": "code",
   "execution_count": 13,
   "metadata": {
    "collapsed": false
   },
   "outputs": [
    {
     "name": "stdout",
     "output_type": "stream",
     "text": [
      "hi there, this is a long message for you\n",
      "            that goes over multiple lines... you will find\n",
      "out soon that triple quotes in Python allows\n",
      "this kind of fun! it is like a day on the beach!!!\n"
     ]
    }
   ],
   "source": [
    "print '''hi there, this is a long message for you\n",
    "            that goes over multiple lines... you will find\n",
    "out soon that triple quotes in Python allows\n",
    "this kind of fun! it is like a day on the beach!!!'''\n",
    "# 上面的为一整个字符串，所有换行，空格，缩进，都会体现出来的，所以缩进并不是可有可无，比如第二行。"
   ]
  },
  {
   "cell_type": "markdown",
   "metadata": {},
   "source": [
    "### 代码组`:`"
   ]
  },
  {
   "cell_type": "markdown",
   "metadata": {},
   "source": [
    "缩进相同的一组语句构成一个代码块，我们称之为`代码组`。  \n",
    "像`if`、`while`、`def`、`class`这样的符合语句，首行一关键字开始，以冒号`:`结束，改行之后的一行或多行代码构成代码组。  \n",
    "整体构成一个字句（clause）"
   ]
  },
  {
   "cell_type": "markdown",
   "metadata": {},
   "source": [
    "代码组是有不同的缩进分割的，严格缩进，严格左对齐，没有缩进的代码块是最高层次的，被称作脚本的“主体”（main）部分。"
   ]
  },
  {
   "cell_type": "markdown",
   "metadata": {
    "collapsed": true
   },
   "source": [
    "### 同一行书写多个语句（;）"
   ]
  },
  {
   "cell_type": "markdown",
   "metadata": {},
   "source": [
    "在Python中分号不是必须的，除非你想把多个语句写在同一行当中："
   ]
  },
  {
   "cell_type": "code",
   "execution_count": 1,
   "metadata": {
    "collapsed": false
   },
   "outputs": [
    {
     "name": "stdout",
     "output_type": "stream",
     "text": [
      "foo\n"
     ]
    }
   ],
   "source": [
    "import sys; x='foo'; sys.stdout.write(x+'\\n')"
   ]
  },
  {
   "cell_type": "markdown",
   "metadata": {},
   "source": [
    "### 模块"
   ]
  },
  {
   "cell_type": "markdown",
   "metadata": {},
   "source": [
    "每一个Python脚本文件都可以被当作成是一个模块，即便它含有`if __name__==\"__main__:\"`，当导入一个模块的时候需要考虑这个模块的路径的问题。"
   ]
  },
  {
   "cell_type": "markdown",
   "metadata": {},
   "source": [
    "---"
   ]
  },
  {
   "cell_type": "markdown",
   "metadata": {},
   "source": [
    "## 3.2 变量赋值"
   ]
  },
  {
   "cell_type": "code",
   "execution_count": 3,
   "metadata": {
    "collapsed": false
   },
   "outputs": [],
   "source": [
    "anInt=-12\n",
    "aString='cart'\n",
    "sFloat=-3.14*(5.0**2)\n",
    "anotherString='shop'+'ping'\n",
    "aList=[3.14e10,'2nd elmt of a list',8.82-4.371j]\n",
    "a,b,c=[1,2,3]\n",
    "y=1\n",
    "x=y=y+1"
   ]
  },
  {
   "cell_type": "markdown",
   "metadata": {},
   "source": [
    "**注意：**赋值并不是直接讲一个值赋给一个变量，与其他编程语言不同，在Python当中，对象是通过引用传递的。在赋值时不管这个对象是新创建的，还是一个已经存在的，都是将该对象的引用（不是值）赋值给变量。（指针？？？）"
   ]
  },
  {
   "cell_type": "markdown",
   "metadata": {},
   "source": [
    "python中不存在所谓的传值调用，一切传递的都是对象的引用，也可以认为是传址。\n",
    "Python在heap中分配的对象分成两类：可变对象和不可变对象。所谓可变对象是指，对象的内容可变，而不可变对象是指对象内容不可变。\n",
    "> 不可变（immutable）：int、字符串(string)、float、（数值型number）、元组（tuple)  \n",
    "可变（mutable）：字典型(dictionary)、列表型(list)"
   ]
  },
  {
   "cell_type": "code",
   "execution_count": 14,
   "metadata": {
    "collapsed": false
   },
   "outputs": [
    {
     "name": "stdout",
     "output_type": "stream",
     "text": [
      "[1, 2, 3]\n",
      "[1, 2, 3, 4]\n"
     ]
    }
   ],
   "source": [
    "a=[1,2,3]\n",
    "b=a\n",
    "print b\n",
    "a.append(4)\n",
    "print b"
   ]
  },
  {
   "cell_type": "code",
   "execution_count": 15,
   "metadata": {
    "collapsed": false
   },
   "outputs": [
    {
     "name": "stdout",
     "output_type": "stream",
     "text": [
      "3\n",
      "3\n"
     ]
    }
   ],
   "source": [
    "a=3\n",
    "b=a\n",
    "print b\n",
    "a=4\n",
    "print b"
   ]
  },
  {
   "cell_type": "markdown",
   "metadata": {},
   "source": [
    "优点是：这样可以减少重复的值对内存空间的占用。  \n",
    "缺点是：当要修改这个变量的值时，如果内存中没有存储该值的内存块，那么必须重新开辟一块内存，把新地址与变量名绑定。而不是修改变量原来指向的内存块里的内容，这会给执行效率带来一定的降低。"
   ]
  },
  {
   "cell_type": "markdown",
   "metadata": {},
   "source": [
    "#### 增量赋值"
   ]
  },
  {
   "cell_type": "markdown",
   "metadata": {},
   "source": [
    "增量赋值符号：`+=`、`-=`、`*=`、`/=`、`%=`、`**=`、`<<=`、`>>=`、`&=`、`^=`、`|=`"
   ]
  },
  {
   "cell_type": "code",
   "execution_count": 16,
   "metadata": {
    "collapsed": false
   },
   "outputs": [
    {
     "name": "stdout",
     "output_type": "stream",
     "text": [
      "3\n",
      "3\n"
     ]
    }
   ],
   "source": [
    "a=3\n",
    "b=a\n",
    "print b\n",
    "a+=1\n",
    "print b"
   ]
  },
  {
   "cell_type": "code",
   "execution_count": 17,
   "metadata": {
    "collapsed": false
   },
   "outputs": [
    {
     "name": "stdout",
     "output_type": "stream",
     "text": [
      "3\n",
      "3\n"
     ]
    }
   ],
   "source": [
    "a=3\n",
    "b=a\n",
    "print b\n",
    "a=a+1\n",
    "print b"
   ]
  },
  {
   "cell_type": "markdown",
   "metadata": {},
   "source": [
    "---"
   ]
  },
  {
   "cell_type": "markdown",
   "metadata": {},
   "source": [
    "## 3.3 标识符"
   ]
  },
  {
   "cell_type": "markdown",
   "metadata": {},
   "source": [
    "### 关键字（key words）"
   ]
  },
  {
   "cell_type": "markdown",
   "metadata": {},
   "source": [
    "![help](keywords.jpg)"
   ]
  },
  {
   "cell_type": "markdown",
   "metadata": {},
   "source": [
    "### 內键（built-in）"
   ]
  },
  {
   "cell_type": "markdown",
   "metadata": {},
   "source": [
    "除了关键字之外，还有一些称为“內建”（built-in）的名字的集合，这些名字都是由内置模块设置的，由解释器自动导入的，虽然不是关键字，也可以覆盖（重定义、替换），但是最好不要，因为都是有特殊用途的。可以把它们看成是一级Python代码的全局变量。"
   ]
  },
  {
   "cell_type": "markdown",
   "metadata": {},
   "source": [
    "#### 专用下划线标识符"
   ]
  },
  {
   "cell_type": "markdown",
   "metadata": {},
   "source": [
    "Python用下划线作为变量前缀和后缀来指定特殊变量，这些变量是非常有用的：  \n",
    "- _xxx 这类变量不会被'from module import *'导入\n",
    "- \\_xxx_ 系统定义名字\n",
    "- _xxx 类中的私有变量"
   ]
  },
  {
   "cell_type": "markdown",
   "metadata": {},
   "source": [
    "---"
   ]
  },
  {
   "cell_type": "markdown",
   "metadata": {},
   "source": [
    "## 3.4 基本风格"
   ]
  },
  {
   "cell_type": "markdown",
   "metadata": {},
   "source": [
    "#### 注释\n",
    "不能多，不能少，位置准确，内容准确\n",
    "#### 文档\n",
    "可以通过obj.__doc__来访问模块、类、函数声明中第一个没有赋值的字符串【文档字符串】\n",
    "#### 缩进\n",
    "4个空格就好，不要用制表符，即便用的是Tab也要在编辑器里面设置成空格。\n",
    "#### Python风格\n",
    "Pythonic指的是以Python的方式去编写代码、组织逻辑和对象行为。  \n",
    "PEPs--Python Enhancement Proposals Python开发编码规范  \n",
    "PEP 8 -- Style Guide for Python Code"
   ]
  },
  {
   "cell_type": "markdown",
   "metadata": {},
   "source": [
    "### 模块结构和布局\n",
    "- 起始行（Unix）或 编码注释\n",
    "- 模块文档（\\__doc__）\n",
    "- 模块导入\n",
    "- 变量定义\n",
    "- 类定义\n",
    "- 函数定义\n",
    "- 主程序"
   ]
  },
  {
   "cell_type": "markdown",
   "metadata": {},
   "source": [
    "![image](jiegou.jpg)"
   ]
  },
  {
   "cell_type": "markdown",
   "metadata": {
    "collapsed": true
   },
   "source": [
    "#### \\__name__指示模块应如何被加载\n",
    "- 如果模块是被导入的， \\__name__的值自动被设为模块的名字\n",
    "- 如果模块是被直接执行，\\__name\\__ 的值自动被设为\\__main\\__"
   ]
  },
  {
   "cell_type": "markdown",
   "metadata": {
    "collapsed": true
   },
   "source": [
    "---"
   ]
  },
  {
   "cell_type": "markdown",
   "metadata": {},
   "source": [
    "## 3.5 内存管理"
   ]
  },
  {
   "cell_type": "markdown",
   "metadata": {},
   "source": [
    "- 变量无须事先声明\n",
    "- 变量无须指定类型\n",
    "- 程序员不用关心内存管理\n",
    "- 变量名会被“回收”\n",
    "- `del`语句能够直接释放资源"
   ]
  },
  {
   "cell_type": "markdown",
   "metadata": {
    "collapsed": true
   },
   "source": [
    "对上面的一点解释：\n",
    "> - 变量在被使用前必须声明变量的名字和类型，变量在第一次被赋值时自动声明，无需显示变量声明。\n",
    "> - Python解释器会根据语法和右侧的操作数来决定新对象的类型\n",
    "> - Python解释器承担内存管理的任务。\n",
    "> - 引用计数：同一个对象可以被不同变量引用，Python内部记录着所有使用中的对象各有多少个引用\n",
    "> - Del语句删除的是对象的引用\n",
    "> - 当某个对象的引用数为0时，就会被垃圾收集机制收回"
   ]
  },
  {
   "cell_type": "markdown",
   "metadata": {
    "collapsed": true
   },
   "source": [
    "---"
   ]
  },
  {
   "cell_type": "markdown",
   "metadata": {},
   "source": [
    "## 3.6 "
   ]
  },
  {
   "cell_type": "markdown",
   "metadata": {},
   "source": [
    "#### makeTextFile.py\n",
    "> - 创建一个文本文件\n",
    "> - 提示用户输入每一行文本\n",
    "> - 将结果写到文件中"
   ]
  },
  {
   "cell_type": "code",
   "execution_count": 3,
   "metadata": {
    "collapsed": false
   },
   "outputs": [
    {
     "name": "stdout",
     "output_type": "stream",
     "text": [
      "Enter filename:wffett\n",
      "\n",
      "Enter lines ('.' by itself to quit).\n",
      "\n",
      ">hele\n",
      ">asdlkfj\n",
      ">.\n",
      "DONE\n"
     ]
    }
   ],
   "source": [
    "#！/user/bin/env python\n",
    "'makeTextFile.py -- create text file'\n",
    "\n",
    "import os\n",
    "ls=os.linesep\n",
    "\n",
    "while True:\n",
    "    fname=raw_input('Enter filename:')\n",
    "    if os.path.exists(fname):\n",
    "        print \"ERROR: '%s' already exists\" %fname\n",
    "    else:\n",
    "        break\n",
    "\n",
    "all=[]\n",
    "print \"\\nEnter lines ('.' by itself to quit).\\n\"\n",
    "\n",
    "while True:\n",
    "    entry=raw_input('>')\n",
    "    if entry=='.':\n",
    "        break\n",
    "    else:\n",
    "        all.append(entry)\n",
    "fobj=open(fname,'w')\n",
    "fobj.writelines(['%s%s' %(x,ls) for x in all])\n",
    "fobj.close()\n",
    "\n",
    "print 'DONE'"
   ]
  },
  {
   "cell_type": "markdown",
   "metadata": {
    "collapsed": true
   },
   "source": [
    "#### readTextFile.py\n",
    "> - 读取并显示该文本文件中的内容"
   ]
  },
  {
   "cell_type": "code",
   "execution_count": 6,
   "metadata": {
    "collapsed": false
   },
   "outputs": [
    {
     "name": "stdout",
     "output_type": "stream",
     "text": [
      "Enter filename:asdf\n",
      "asdf:\n",
      "\n",
      "***file open error: [Errno 2] No such file or directory: 'asdf'\n"
     ]
    }
   ],
   "source": [
    "#!/user/bin/env python\n",
    "\n",
    "'readTextFile.py -- read and display text file'\n",
    "\n",
    "fname=raw_input('Enter filename:')\n",
    "\n",
    "print fname+':\\n'\n",
    "\n",
    "try:\n",
    "    fobj=open(fname,'r')\n",
    "except IOError,e:\n",
    "    print '***file open error:',e\n",
    "else:\n",
    "    for eachline in fobj:\n",
    "        print eachline,\n",
    "    fobj.close()"
   ]
  }
 ],
 "metadata": {
  "kernelspec": {
   "display_name": "Python 2",
   "language": "python",
   "name": "python2"
  },
  "language_info": {
   "codemirror_mode": {
    "name": "ipython",
    "version": 2
   },
   "file_extension": ".py",
   "mimetype": "text/x-python",
   "name": "python",
   "nbconvert_exporter": "python",
   "pygments_lexer": "ipython2",
   "version": "2.7.11"
  }
 },
 "nbformat": 4,
 "nbformat_minor": 0
}
