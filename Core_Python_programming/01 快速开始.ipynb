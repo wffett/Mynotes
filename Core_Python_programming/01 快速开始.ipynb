{
 "cells": [
  {
   "cell_type": "markdown",
   "metadata": {},
   "source": [
    "# Python 核心编程 （2.x）"
   ]
  },
  {
   "cell_type": "markdown",
   "metadata": {},
   "source": [
    "---"
   ]
  },
  {
   "cell_type": "markdown",
   "metadata": {},
   "source": [
    "# 第一印象"
   ]
  },
  {
   "cell_type": "markdown",
   "metadata": {},
   "source": [
    "## 输出"
   ]
  },
  {
   "cell_type": "markdown",
   "metadata": {},
   "source": [
    "> 其实对于任何程序来说，都是要处理输入的信息，得到想要的输出结果。因此我们编程的最终目的都是要得到输出，哪怕是隐式的输出。"
   ]
  },
  {
   "cell_type": "code",
   "execution_count": 12,
   "metadata": {
    "collapsed": false
   },
   "outputs": [
    {
     "name": "stdout",
     "output_type": "stream",
     "text": [
      "Hello World!\n",
      "Hello World!\n",
      "HelloWorld!\n"
     ]
    }
   ],
   "source": [
    "print 'Hello World!'\n",
    "print 'Hello','World!' # 如果细心一点的话会发现逗号被当做空格输出了。\n",
    "print 'Hello'+'World!'"
   ]
  },
  {
   "cell_type": "raw",
   "metadata": {},
   "source": [
    "在python2.x当中print 并不是一个函数，而只是了一个类似Shell脚本语言中的echo语句，向屏幕输出数据，\n",
    "而在3.x版本中已经得到了修改如果强行增加括号的话会得到如下结果："
   ]
  },
  {
   "cell_type": "code",
   "execution_count": 6,
   "metadata": {
    "collapsed": false
   },
   "outputs": [
    {
     "name": "stdout",
     "output_type": "stream",
     "text": [
      "Hello World!\n",
      "('Hello', 'World!')\n"
     ]
    }
   ],
   "source": [
    "print(\"Hello World!\") #这句看不出问题来\n",
    "print('Hello','World!') #这句输出是一个元组。"
   ]
  },
  {
   "cell_type": "markdown",
   "metadata": {},
   "source": [
    "### 格式打印 （用替换符来控制输出格式）"
   ]
  },
  {
   "cell_type": "code",
   "execution_count": 13,
   "metadata": {
    "collapsed": false
   },
   "outputs": [
    {
     "name": "stdout",
     "output_type": "stream",
     "text": [
      "Hello World!\n",
      "Hello World!\n",
      "Hello World!\n",
      "HelloWorld!\n",
      "Hello Python World!\n"
     ]
    }
   ],
   "source": [
    "print \"Hello %s\" % (\"World!\")\n",
    "print \"Hello %s\"%(\"World!\")\n",
    "print \"Hello %s\"%\"World!\"\n",
    "print \"Hello%s\"%\"World!\"\n",
    "print \"Hello %s %s!\" %(\"Python\",\"World\") #将元组中的数据，按顺序依次替换"
   ]
  },
  {
   "cell_type": "code",
   "execution_count": 19,
   "metadata": {
    "collapsed": false
   },
   "outputs": [
    {
     "name": "stdout",
     "output_type": "stream",
     "text": [
      "Python's version number is 2.70!\n"
     ]
    }
   ],
   "source": [
    "print \"%s\\'s version number is %.2f!\" %('Python',2.7)"
   ]
  },
  {
   "cell_type": "markdown",
   "metadata": {},
   "source": [
    "说明：  \n",
    "`%s`表示由一个字符串来替换；  \n",
    "`%d`表示由一个整型来替换；  \n",
    "`%f`表示由一个浮点型来替换；   \n",
    "%o  %x  %X：这三个主要是用来进制的控制转换。  \n",
    "**%：用在字符串内的时候，表示的是格式说明符（argument）用在数值值之间的时候表示的是取余数的运算符（除尽的话余数当然是0，没有余数，除不尽的时候，才会有余数），同样的操作在不同的上下文中有不同的含义，这叫做重载。**"
   ]
  },
  {
   "cell_type": "code",
   "execution_count": 33,
   "metadata": {
    "collapsed": false
   },
   "outputs": [
    {
     "name": "stdout",
     "output_type": "stream",
     "text": [
      "1.000000\n",
      "1.666667\n",
      "1.67\n",
      "1.67\n",
      "2\n",
      "  2\n"
     ]
    }
   ],
   "source": [
    "print \"%f\" %(5/3)\n",
    "print \"%f\" %(5.0/3)\n",
    "print \"%.2f\" %(5.0/3)\n",
    "print \"%.00002f\" %(5.0/3)\n",
    "print \"%.f\" %(5.0/3)\n",
    "print \"%3.f\" %(5.0/3)"
   ]
  },
  {
   "cell_type": "markdown",
   "metadata": {},
   "source": [
    "### 输出到文件"
   ]
  },
  {
   "cell_type": "code",
   "execution_count": 39,
   "metadata": {
    "collapsed": false
   },
   "outputs": [
    {
     "name": "stderr",
     "output_type": "stream",
     "text": [
      "aaaaaaaaa!\n"
     ]
    }
   ],
   "source": [
    "import sys\n",
    "print >> sys.stderr, 'aaaaaaaaa!' #将输出重定向到标准错误输出。"
   ]
  },
  {
   "cell_type": "code",
   "execution_count": 40,
   "metadata": {
    "collapsed": true
   },
   "outputs": [],
   "source": [
    "#将输出重定向到文件\n",
    "#相当于 echo \"Hello World!\" >> hello.txt\n",
    "hellofile=open('./hello.txt','a')\n",
    "print >> hellofile, 'Hello World!'\n",
    "hellofile.close()"
   ]
  },
  {
   "cell_type": "markdown",
   "metadata": {},
   "source": [
    "以上是Python2.x的实现方法，而在Python3.x当中，由于`print()`已经看做是一个函数，因此在用法上有所改变：  \n",
    "```\n",
    "print(x,y,file=open('./hello.txt','w'))\n",
    "print(open('./hello.txt').read())\n",
    "```"
   ]
  },
  {
   "cell_type": "markdown",
   "metadata": {},
   "source": [
    "---"
   ]
  },
  {
   "cell_type": "markdown",
   "metadata": {},
   "source": [
    "# 输入"
   ]
  },
  {
   "cell_type": "markdown",
   "metadata": {},
   "source": [
    "#### raw_input() 函数"
   ]
  },
  {
   "cell_type": "code",
   "execution_count": 8,
   "metadata": {
    "collapsed": false
   },
   "outputs": [
    {
     "name": "stdout",
     "output_type": "stream",
     "text": [
      "Enter your name:wffett\n",
      "Your name is: wffett\n"
     ]
    }
   ],
   "source": [
    "user=raw_input('Enter your name:')\n",
    "print 'Your name is:',user"
   ]
  },
  {
   "cell_type": "raw",
   "metadata": {},
   "source": [
    "函数raw_input():使用给定字符串提示用户输入并将这个输入返回，返回的数据为字符串类型，即便你输入的是数字，raw的英文意思是未经过加工的，照原样返回，因此如果你想得到一个整型值，需要对其进行类型转换。"
   ]
  },
  {
   "cell_type": "code",
   "execution_count": 13,
   "metadata": {
    "collapsed": false
   },
   "outputs": [
    {
     "name": "stdout",
     "output_type": "stream",
     "text": [
      "Enter a number:2\n",
      "the square of the num is: 4\n"
     ]
    }
   ],
   "source": [
    "num=raw_input('Enter a number:')\n",
    "print 'the square of the num is:',int(num)**2"
   ]
  },
  {
   "cell_type": "markdown",
   "metadata": {},
   "source": [
    "#### input() 函数"
   ]
  },
  {
   "cell_type": "code",
   "execution_count": 3,
   "metadata": {
    "collapsed": false
   },
   "outputs": [
    {
     "name": "stdout",
     "output_type": "stream",
     "text": [
      "what do you want:'wffett'\n",
      "wffett\n"
     ]
    }
   ],
   "source": [
    "aa=input('what do you want:')\n",
    "print aa"
   ]
  },
  {
   "cell_type": "markdown",
   "metadata": {},
   "source": [
    "> `input()`和`raw_input()`的区别:  \n",
    "这两个函数均能接收字符串，但`raw_input()`直接读取控制台的输入（任何类型的输入它都可以接收，包括一些转义字符），将所有输入作为字符串看待，返回字符串类型。  \n",
    "而对于`input()`，它希望能够读取一个**合法**的Python表达式，即你输入字符串的时候也必须使用**引号**将它括起来，否则它会引发一个`SyntaxError`，`input()`在对待纯数字输入时会进行判断，因此它可以返回数值类型（int,float）"
   ]
  },
  {
   "cell_type": "markdown",
   "metadata": {},
   "source": [
    "#### 文档注释，帮助信息的编写。"
   ]
  },
  {
   "cell_type": "code",
   "execution_count": 17,
   "metadata": {
    "collapsed": false,
    "scrolled": true
   },
   "outputs": [
    {
     "name": "stdout",
     "output_type": "stream",
     "text": [
      "Help on function foo in module __main__:\n",
      "\n",
      "foo()\n",
      "    This is a doc string,it's used to tell you that this is a doc string\n",
      "\n"
     ]
    }
   ],
   "source": [
    "def foo():\n",
    "    \"This is a doc string,it's used to tell you that this is a doc string\"\n",
    "    # 上面这一行凭空出来的字符串，看似是一个错误，但是它起到了特别注释的作用\n",
    "    # 在模块、类或者函数的其实添加一个字符串，就起到了在线文档的功能。\n",
    "    return True\n",
    "help(foo) #当需要帮助的时候，就可以调用该函数的文档注释。"
   ]
  },
  {
   "cell_type": "markdown",
   "metadata": {},
   "source": [
    "# 基本操作"
   ]
  },
  {
   "cell_type": "markdown",
   "metadata": {},
   "source": [
    "#### 算数操作符"
   ]
  },
  {
   "cell_type": "markdown",
   "metadata": {},
   "source": [
    "Python2.x： `+  -  *  /  //  %  **`  \n",
    "Python3.x： `+  -  *  /  //  %  **`  \n",
    "所不同的是除法`/`的输出结果：  \n",
    "2.x版本的除法的输出结果是根据除数（或被除数）的类型决定的，例如`5/2`的结果是`2`，而`5.0/2`的结果才是`2.5`  \n",
    "3.x版本，则是讲`/`视为真实除法，`5/2`的结果就是`2.5`，和除数（或被除数）的类型无关，如只需要取商的话，使用地板除法`5//2=2`"
   ]
  },
  {
   "cell_type": "markdown",
   "metadata": {},
   "source": [
    "#### 比较操作符"
   ]
  },
  {
   "cell_type": "markdown",
   "metadata": {},
   "source": [
    "Python2.x： `<  <=  >  >=  ==  !=  <>`  \n",
    "Python3.x： `<  <=  >  >=  ==  !=`  \n",
    "3.x版本取消了`<>`这种`ABC/Pascal`风格的“不等于”比较操作符。"
   ]
  },
  {
   "cell_type": "markdown",
   "metadata": {},
   "source": [
    "#### 逻辑操作符"
   ]
  },
  {
   "cell_type": "markdown",
   "metadata": {},
   "source": [
    "`and` `or` `not` `is` `is not` `in` `not in` "
   ]
  },
  {
   "cell_type": "markdown",
   "metadata": {},
   "source": [
    "### 数值"
   ]
  },
  {
   "cell_type": "raw",
   "metadata": {},
   "source": [
    "数值分为五种：有符号整型int、长整型long、布尔型bool、浮点型（float）、虚数（complex）\n",
    "Python3.x版本中已经取消了长整型，它和int已经融合。"
   ]
  },
  {
   "cell_type": "markdown",
   "metadata": {},
   "source": [
    "其实还有另外一种数字类型：`decimal` 用于十进制浮点型，如下面展示的那样："
   ]
  },
  {
   "cell_type": "code",
   "execution_count": 19,
   "metadata": {
    "collapsed": false
   },
   "outputs": [
    {
     "data": {
      "text/plain": [
       "36.300000000000004"
      ]
     },
     "execution_count": 19,
     "metadata": {},
     "output_type": "execute_result"
    }
   ],
   "source": [
    "33*1.1"
   ]
  },
  {
   "cell_type": "code",
   "execution_count": 18,
   "metadata": {
    "collapsed": false
   },
   "outputs": [
    {
     "name": "stdout",
     "output_type": "stream",
     "text": [
      "36.3\n"
     ]
    }
   ],
   "source": [
    "print 33*1.1"
   ]
  },
  {
   "cell_type": "code",
   "execution_count": 29,
   "metadata": {
    "collapsed": false
   },
   "outputs": [
    {
     "data": {
      "text/plain": [
       "36.0"
      ]
     },
     "execution_count": 29,
     "metadata": {},
     "output_type": "execute_result"
    }
   ],
   "source": [
    "round(33*1.1) #四舍五入，如果只有一个参数的话默认是取整。"
   ]
  },
  {
   "cell_type": "code",
   "execution_count": 30,
   "metadata": {
    "collapsed": false
   },
   "outputs": [
    {
     "data": {
      "text/plain": [
       "36.3"
      ]
     },
     "execution_count": 30,
     "metadata": {},
     "output_type": "execute_result"
    }
   ],
   "source": [
    "round(33*1.1,3)"
   ]
  },
  {
   "cell_type": "markdown",
   "metadata": {
    "collapsed": false
   },
   "source": [
    "> 关于`round()`函数，Python2.x和3.x有很大的不同，2.x完全就是四舍五入的策略，而3.x采用的是`ROUND_HALF_EVEN策略`，就是当舍弃部分总的数值大小（不只是判断位）刚好等于前一位的二分之一时（0.5，0.05，0.005...）则做如下处理：  \n",
    "如果舍弃部分左边的数字为奇数，则作`ROUND_HALF_UP`；如果它为偶数，则作`ROUND_HALF_DOWN`。  \n",
    "比较通俗的解释就是：`Python3.x` 会把左边的数字X四舍五入为最近的偶数。所以round(4.5)=4，而不是5。你写round(5.5)=6，而不是5，结果永远都是偶数。  \n",
    "为什么这样，作者这样设计的用意是什么？其实作者的用意就是按照计算机数据存储转化规则，进行实际的处理，虽然这里有问题，但是作者只是照实处理."
   ]
  },
  {
   "cell_type": "markdown",
   "metadata": {},
   "source": [
    "在Python3.x当中，`round()`的输出结果如下：  \n",
    "`round(1.5)`=`2`  \n",
    "`round(2.5)`=`2` --- `round(2.51)`=`3`  \n",
    "`round(3.5)`=`4`  \n",
    "`round(4.5)`=`4`  \n",
    "`round(5.5)`=`6`  \n",
    "`round(6.5)`=`6`  \n"
   ]
  },
  {
   "cell_type": "markdown",
   "metadata": {},
   "source": [
    "`+` 运算符只能用于同类型的数据，但是浮点型和整型是可以相加的，字符串和数值型不能直接相加，需要进行类型转换，字符串之间只能进行“加法”和“乘法”，但是其表示的意义则和数值运算完全不同。"
   ]
  },
  {
   "cell_type": "code",
   "execution_count": 4,
   "metadata": {
    "collapsed": false
   },
   "outputs": [
    {
     "name": "stdout",
     "output_type": "stream",
     "text": [
      "HelloWorld\n",
      "Hello World\n",
      "Hello World123456\n",
      "Hello,WorldHello,World\n"
     ]
    }
   ],
   "source": [
    "print \"Hello\"+\"World\"\n",
    "print \"Hello\"+\" \"+\"World\"\n",
    "print \"Hello\"+\" \"+\"World\"+str(123456)\n",
    "print \"Hello,World\"*2"
   ]
  },
  {
   "cell_type": "markdown",
   "metadata": {},
   "source": [
    "### 变量和赋值 "
   ]
  },
  {
   "cell_type": "markdown",
   "metadata": {},
   "source": [
    "- Python的变量命名规则和C语言相同。\n",
    "- Python对大小写敏感，不只是变量名，模块名，函数名，类名，方法名等都是大小写敏感的\n",
    "- Python是动态类型语言，也就是说不需要预先声明变量的类型\n",
    "> int c;  \n",
    "> c=1;  \n",
    "- Python支持增量赋值，操作符合赋值符合并在一起：`n=n*10` 等同于 `n*=10`,`n=n+10`等同于`n+=10`\n",
    "- Python不支持自增1和自减1操作符：`++n`、`--n`在Python当中不是数学运算，而是**逻辑运算**"
   ]
  },
  {
   "cell_type": "markdown",
   "metadata": {},
   "source": [
    "### 字符串"
   ]
  },
  {
   "cell_type": "markdown",
   "metadata": {},
   "source": [
    "- 定义字符串的方法：`单引号`、`双引号`、`三引号（单双都行）`\n",
    "- 可以包含特殊字符，有一些特殊字符需要转义。\n",
    "- 可以使用索引操作符`[]`，和切片操作符`[:]`处理。\n",
    "- 索引规则：第一个字符的索引值是`0`，最后一个字符的索引值是`-1`。\n",
    "- 加号`+`用于字符串连接，乘号`*`用于字符串重复。"
   ]
  },
  {
   "cell_type": "code",
   "execution_count": 41,
   "metadata": {
    "collapsed": false
   },
   "outputs": [
    {
     "name": "stdout",
     "output_type": "stream",
     "text": [
      "P\n",
      "tho\n",
      "is\n",
      "cool!\n",
      "!\n",
      "l\n",
      "l!\n",
      "Python is cool!\n",
      "PythonPython\n",
      "====================\n"
     ]
    }
   ],
   "source": [
    "pystr='Python'\n",
    "iscool='is cool!'\n",
    "print pystr[0]\n",
    "print pystr[2:5]\n",
    "print iscool[:2]\n",
    "print iscool[3:]\n",
    "print iscool[-1]\n",
    "print iscool[-2:-1]\n",
    "print iscool[-2:]\n",
    "print pystr+' '+iscool\n",
    "print pystr*2\n",
    "print \"=\"*20"
   ]
  },
  {
   "cell_type": "markdown",
   "metadata": {},
   "source": [
    "关于字符串或列表的切边的理解：  \n",
    "`L[n:m]=[L[n],L[n+1],L[n+2],……,L[m-1]]`,从`L[n]`起始，到`L[m]`**前一个元素**结束（不包含`L[m]`），数量是`m-n`个。  \n",
    "例如：  \n",
    "`L[2:5]==[L[2],L[3],L[4]]`, 数量就是`5-2=3`个  \n",
    "`L[-2:-1]=[L[-2],L[-1-1]]=L[-2]`, 数量就是`-1-（-2）=1`个。"
   ]
  },
  {
   "cell_type": "markdown",
   "metadata": {
    "collapsed": true
   },
   "source": [
    "## 列表和元组"
   ]
  },
  {
   "cell_type": "markdown",
   "metadata": {},
   "source": [
    "列表和元组与数组的一大区别是可以存储不同类型的对象。  \n",
    "列表使用`[]`，元素的个数及元素的值可以改变  \n",
    "元组使用`()`，元素的个数及元素的值不可以**直接**改变。"
   ]
  },
  {
   "cell_type": "code",
   "execution_count": null,
   "metadata": {
    "collapsed": true
   },
   "outputs": [],
   "source": []
  }
 ],
 "metadata": {
  "kernelspec": {
   "display_name": "Python 2",
   "language": "python",
   "name": "python2"
  },
  "language_info": {
   "codemirror_mode": {
    "name": "ipython",
    "version": 2
   },
   "file_extension": ".py",
   "mimetype": "text/x-python",
   "name": "python",
   "nbconvert_exporter": "python",
   "pygments_lexer": "ipython2",
   "version": "2.7.11"
  }
 },
 "nbformat": 4,
 "nbformat_minor": 0
}
