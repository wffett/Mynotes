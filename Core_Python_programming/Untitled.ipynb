{
 "cells": [
  {
   "cell_type": "markdown",
   "metadata": {},
   "source": [
    "# 06. 序列：字符串、列表和元组"
   ]
  },
  {
   "cell_type": "markdown",
   "metadata": {},
   "source": [
    "> 序列：它们的成员有序排列的，并且可以通过下标**偏移量**访问到他的一个或者几个成员  \n",
    "序列具备如下属性：切片（slicing）、索引（indexing）、迭代（iterating）、成员资格（[not] in）、拼接（adding，+）、乘法【重复】（multiplying，*）"
   ]
  },
  {
   "cell_type": "markdown",
   "metadata": {},
   "source": [
    "![6-1](P6-1.jpg)"
   ]
  },
  {
   "cell_type": "markdown",
   "metadata": {},
   "source": [
    "### 序列类型操作符"
   ]
  },
  {
   "cell_type": "markdown",
   "metadata": {},
   "source": [
    "#### 1.成员关系操作符（in、not in）\n",
    "对象 [not] in 序列"
   ]
  },
  {
   "cell_type": "markdown",
   "metadata": {},
   "source": [
    "#### 2. 连接操作符（+）\n",
    "sequence1 + sequence2 结果返回一个包含两个序列的新序列，但是这个方式不是最有效的。"
   ]
  },
  {
   "cell_type": "markdown",
   "metadata": {},
   "source": [
    "#### 3. 重复操作符（*）\n",
    "sequence * copies_int"
   ]
  },
  {
   "cell_type": "markdown",
   "metadata": {},
   "source": [
    "#### 4. 切片操作符（[],[:],[::]）"
   ]
  },
  {
   "cell_type": "markdown",
   "metadata": {
    "collapsed": true
   },
   "source": [
    "#### 5. 用步长索引来进行扩展的切片操作\n",
    "切片操作的方法是：consequence[start_index: end_index: step]，几种常见的表达：  \n",
    ">`con[start_index: ]`：缺省end_index，表示从start_index开始到序列中最后一个对象。  \n",
    "`con[: end_index］`：缺省start_index，表示从序列中第一个对象到end_index-1之间的片段。   \n",
    "`con[:]`：缺省start_index和end_index，表示从第一个对象到最后一个对象的完整片段。  \n",
    "`con[::step]`：缺省start_index和end_index，表示对整个序列按照索引可以被step整除的规则取值。"
   ]
  },
  {
   "cell_type": "code",
   "execution_count": 19,
   "metadata": {
    "collapsed": false
   },
   "outputs": [
    {
     "name": "stdout",
     "output_type": "stream",
     "text": [
      "[7, 6, 5, 4, 3, 2, 1]\n",
      "[1, 2, 3, 4, 5, 6, 7]\n"
     ]
    }
   ],
   "source": [
    "s=[1,2,3,4,5,6,7]\n",
    "print s[::-1]\n",
    "print s"
   ]
  },
  {
   "cell_type": "code",
   "execution_count": 18,
   "metadata": {
    "collapsed": false
   },
   "outputs": [
    {
     "name": "stdout",
     "output_type": "stream",
     "text": [
      "[7, 6, 5, 4, 3, 2, 1]\n"
     ]
    }
   ],
   "source": [
    "s=[1,2,3,4,5,6,7]\n",
    "s.reverse() # 方法reverse()会改变s本身，所以慎用。\n",
    "print s"
   ]
  },
  {
   "cell_type": "raw",
   "metadata": {
    "collapsed": true
   },
   "source": [
    "逆序一个句子，顺序不变，改变居中每个单词的顺序，如：\n",
    "输入为：\"This is an example!\"\n",
    "输出为：\"sihT si na !elpmaxe\""
   ]
  },
  {
   "cell_type": "code",
   "execution_count": 2,
   "metadata": {
    "collapsed": false
   },
   "outputs": [
    {
     "name": "stdout",
     "output_type": "stream",
     "text": [
      "sihT si na !elpmaxe\n"
     ]
    }
   ],
   "source": [
    "def reverse_words(str):\n",
    "    return \" \".join(word[::-1] for word in str.split())\n",
    "\n",
    "ret=reverse_words('This is an example!')\n",
    "print ret"
   ]
  },
  {
   "cell_type": "markdown",
   "metadata": {},
   "source": [
    "---"
   ]
  },
  {
   "cell_type": "raw",
   "metadata": {},
   "source": [
    "有一个字符串，我们想这样显示它：每次都把位于最后的一个字符砍掉"
   ]
  },
  {
   "cell_type": "code",
   "execution_count": 20,
   "metadata": {
    "collapsed": false
   },
   "outputs": [
    {
     "name": "stdout",
     "output_type": "stream",
     "text": [
      "abcdef\n",
      "abcde\n",
      "abcd\n",
      "abc\n",
      "ab\n",
      "a\n"
     ]
    }
   ],
   "source": [
    "s='abcdefg'\n",
    "for i in range(-1,-len(s),-1):\n",
    "    print s[:i]"
   ]
  },
  {
   "cell_type": "markdown",
   "metadata": {},
   "source": [
    "如何在第一次迭代的时候显示真个字符串呢？当然可以在循环之前增加一个`print s`,但如何使用索引的办法呢？就是想表达`s[:]`（不同于`s[:0]`）"
   ]
  },
  {
   "cell_type": "code",
   "execution_count": 21,
   "metadata": {
    "collapsed": false
   },
   "outputs": [
    {
     "name": "stdout",
     "output_type": "stream",
     "text": [
      "abcdefg\n",
      "abcdef\n",
      "abcde\n",
      "abcd\n",
      "abc\n",
      "ab\n",
      "a\n"
     ]
    }
   ],
   "source": [
    "s='abcdefg'\n",
    "for i in [None] + range(-1,-len(s),-1):\n",
    "    print s[:i]"
   ]
  },
  {
   "cell_type": "markdown",
   "metadata": {},
   "source": [
    "---"
   ]
  },
  {
   "cell_type": "code",
   "execution_count": null,
   "metadata": {
    "collapsed": true
   },
   "outputs": [],
   "source": []
  },
  {
   "cell_type": "code",
   "execution_count": null,
   "metadata": {
    "collapsed": true
   },
   "outputs": [],
   "source": []
  },
  {
   "cell_type": "code",
   "execution_count": null,
   "metadata": {
    "collapsed": true
   },
   "outputs": [],
   "source": []
  },
  {
   "cell_type": "code",
   "execution_count": null,
   "metadata": {
    "collapsed": true
   },
   "outputs": [],
   "source": []
  }
 ],
 "metadata": {
  "kernelspec": {
   "display_name": "Python 2",
   "language": "python",
   "name": "python2"
  },
  "language_info": {
   "codemirror_mode": {
    "name": "ipython",
    "version": 2
   },
   "file_extension": ".py",
   "mimetype": "text/x-python",
   "name": "python",
   "nbconvert_exporter": "python",
   "pygments_lexer": "ipython2",
   "version": "2.7.11"
  }
 },
 "nbformat": 4,
 "nbformat_minor": 0
}
