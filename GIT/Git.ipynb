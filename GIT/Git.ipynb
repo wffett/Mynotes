{
 "cells": [
  {
   "cell_type": "markdown",
   "metadata": {},
   "source": [
    "![a](logo.jpg)"
   ]
  },
  {
   "cell_type": "markdown",
   "metadata": {},
   "source": [
    "# GIT Cheat Sheet"
   ]
  },
  {
   "cell_type": "markdown",
   "metadata": {},
   "source": [
    "---"
   ]
  },
  {
   "cell_type": "markdown",
   "metadata": {},
   "source": [
    "## 配置"
   ]
  },
  {
   "cell_type": "markdown",
   "metadata": {},
   "source": [
    "#### 列出所有配置：\n",
    "`git config --list`\n",
    "#### 列出当前Repository配置：\n",
    "`git config --local --list`  \n",
    "`.git/config`文件：针对该仓库。\n",
    "#### 列出全局配置：\n",
    "`git config --global --list`  \n",
    "`~/.gitconfig` 或`~/.config/git/config` 文件：只针对当前用户。\n",
    "#### 列出系统配置：\n",
    "`git config --system --list`  \n",
    "`/etc/gitconfig` 文件: 包含系统上每一个用户及他们仓库的通用配置。\n",
    "#### 设置用户名：\n",
    "`git config --global user.name \"Your name\" `\n",
    "#### 设置用户邮箱：\n",
    "`git config --global user.email \"Your email\" `\n",
    "#### 设置git命令输出为彩色：\n",
    "`git config --global color.ui auto`\n",
    "#### 设置git默认文本编辑器：\n",
    "`git config --global core.editor vim`"
   ]
  },
  {
   "cell_type": "markdown",
   "metadata": {},
   "source": [
    "---"
   ]
  },
  {
   "cell_type": "markdown",
   "metadata": {},
   "source": [
    "# Git基础"
   ]
  },
  {
   "cell_type": "markdown",
   "metadata": {},
   "source": [
    "#### 创建一个本地仓库\n",
    "`git init`\n",
    "#### 克隆一个远程已有仓库\n",
    "`git clone git@github.com:wffett/wffett.git`，使用的是`SSH`协议  \n",
    "`git clone https://github.com/wffett/wffett.git`，使用的是`HTTPS`协议  \n",
    "`git clone https://github.com/wffett/wffett.git anewname.git` 自定义本地仓库的名字。  \n",
    "使用克隆的方式，不仅得到一个远程的仓库的完全拷贝，而且也默认建立了远程连接，如果你有权限的话就可以推送了。"
   ]
  },
  {
   "cell_type": "markdown",
   "metadata": {},
   "source": [
    "---"
   ]
  },
  {
   "cell_type": "markdown",
   "metadata": {},
   "source": [
    "### 基本操作（增、删、改、查）"
   ]
  },
  {
   "cell_type": "markdown",
   "metadata": {},
   "source": [
    "#### 文件的状态\n",
    "> - 未跟踪\n",
    "> - 已跟踪\n",
    ">> - 已修改\n",
    ">> - 已暂存\n",
    ">> - 未修改（已提交）"
   ]
  },
  {
   "cell_type": "markdown",
   "metadata": {},
   "source": [
    "#### 检查当前文件状态\n",
    "`git status` 显示上次提交之后有无改动。  \n",
    "#### 状态简览\n",
    "`git status -s(--short)` \n",
    "- `??` 表示该文件是新添加的未跟踪的文件\n",
    "- `A`  表示该文件是新添加到暂存区的文件\n",
    "- `M`  表示该文件是修改过的，但未暂存的文件\n",
    "- `MM` 表示该文件是被暂存过但未提交修改，之后又被修改过但未暂存。"
   ]
  },
  {
   "cell_type": "markdown",
   "metadata": {},
   "source": [
    "![a](gxt.png)"
   ]
  },
  {
   "cell_type": "markdown",
   "metadata": {},
   "source": [
    "#### 暂存文件\n",
    "`git add <filename>`   \n",
    "`git add .`\n",
    "`git add`是一个多功能命令：\n",
    "- 开始跟踪新文件，“将一个文件添加到项目中”\n",
    "- 把已跟踪的文件放到暂存区，“添加内容到下一次提交中”\n",
    "- 合并时把有冲突的文件标记为已解决状态。"
   ]
  },
  {
   "cell_type": "markdown",
   "metadata": {},
   "source": [
    "#### 撤销暂存\n",
    "暂存区的概念，就像是弹出一个对话框，列出所有有变化的文件，让你勾选哪些需要提交到仓库。当然会发生不小心执行了`git add .`命令将所有文件都勾选了，而恰好这里面有几个你不想现在提交的文件。因此就涉及到撤销操作。  \n",
    "`git reset [filename]` 重置暂存区，与上一次commit保持一致  \n",
    "`git reset --hard [filename]` 重置暂存区和工作区，与上一次commit保持一致"
   ]
  },
  {
   "cell_type": "markdown",
   "metadata": {},
   "source": [
    "#### 提交到仓库\n",
    "`git commit`这种方式会启动文本编辑器以便输入本次提交的说明  \n",
    "`git commit -m [message]`附带说明信息的提交  \n",
    "`git commit -a`提交工作区（已跟踪文件）自上次commit之后的变化，直接到仓库区不需要`git add`  \n",
    "`git comiit --amend`可以用来修改上一次提交的信息。  "
   ]
  },
  {
   "cell_type": "markdown",
   "metadata": {},
   "source": [
    "### 文件对比"
   ]
  },
  {
   "cell_type": "markdown",
   "metadata": {},
   "source": [
    "`git diff <filename>` 显示暂存区和工作区的差异，该命令将通过文件补丁的格式显示(filename)具体哪些行发生了改变，如果什么也没有输出，说明该文件已被暂存，两者没有什么不同。  \n",
    "*当前做的哪些更新还没有暂存？*  \n",
    "*有哪些更新已经暂存起来准备好了下次提交？*   "
   ]
  },
  {
   "cell_type": "markdown",
   "metadata": {},
   "source": [
    "`git diff --cached` 显示暂存区和上一个commit的差异，该命令的实质是对比上一次提交的快照与当前暂存区的快照，如果没有输出，说明该文件已被提交。（Git 1.6.1 及更高版本还允许使用 `git diff --staged`，效果是相同的，但更好记些。）  "
   ]
  },
  {
   "cell_type": "markdown",
   "metadata": {},
   "source": [
    "`git diff HEAD` 显示工作区与当前分支最新commit之间的差异，如果没有输出，说明该文件在上次提之后没有修改。"
   ]
  },
  {
   "cell_type": "markdown",
   "metadata": {},
   "source": [
    "### 删除文件"
   ]
  },
  {
   "cell_type": "markdown",
   "metadata": {},
   "source": [
    "#### 删除"
   ]
  },
  {
   "cell_type": "code",
   "execution_count": null,
   "metadata": {
    "collapsed": true
   },
   "outputs": [],
   "source": []
  },
  {
   "cell_type": "code",
   "execution_count": null,
   "metadata": {
    "collapsed": true
   },
   "outputs": [],
   "source": []
  }
 ],
 "metadata": {
  "kernelspec": {
   "display_name": "Python 2",
   "language": "python",
   "name": "python2"
  },
  "language_info": {
   "codemirror_mode": {
    "name": "ipython",
    "version": 2
   },
   "file_extension": ".py",
   "mimetype": "text/x-python",
   "name": "python",
   "nbconvert_exporter": "python",
   "pygments_lexer": "ipython2",
   "version": "2.7.11"
  }
 },
 "nbformat": 4,
 "nbformat_minor": 0
}
